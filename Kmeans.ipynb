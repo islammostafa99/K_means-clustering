{
  "nbformat": 4,
  "nbformat_minor": 0,
  "metadata": {
    "colab": {
      "name": "Kmeans.ipynb",
      "provenance": [],
      "authorship_tag": "ABX9TyPjlpeMlFb5vbwRmrZ4SJtp",
      "include_colab_link": true
    },
    "kernelspec": {
      "name": "python3",
      "display_name": "Python 3"
    },
    "language_info": {
      "name": "python"
    }
  },
  "cells": [
    {
      "cell_type": "markdown",
      "metadata": {
        "id": "view-in-github",
        "colab_type": "text"
      },
      "source": [
        "<a href=\"https://colab.research.google.com/github/islammostafa99/K_means-clustering/blob/main/Kmeans.ipynb\" target=\"_parent\"><img src=\"https://colab.research.google.com/assets/colab-badge.svg\" alt=\"Open In Colab\"/></a>"
      ]
    },
    {
      "cell_type": "code",
      "source": [
        "import numpy as np"
      ],
      "metadata": {
        "id": "3b7fg2eO4LXB"
      },
      "execution_count": 44,
      "outputs": []
    },
    {
      "cell_type": "code",
      "execution_count": 45,
      "metadata": {
        "colab": {
          "base_uri": "https://localhost:8080/"
        },
        "id": "bh90otbT1bn8",
        "outputId": "3ea79e83-43b2-43d8-bdfd-7c601f54273f"
      },
      "outputs": [
        {
          "output_type": "stream",
          "name": "stdout",
          "text": [
            "[[ 2.  4.]\n",
            " [ 3.  4.]\n",
            " [ 3.  3.]\n",
            " [ 5.  4.]\n",
            " [ 5.  6.]\n",
            " [ 5.  8.]\n",
            " [ 6.  4.]\n",
            " [ 6.  5.]\n",
            " [ 6.  7.]\n",
            " [ 7.  3.]\n",
            " [ 7.  4.]\n",
            " [ 8.  2.]\n",
            " [ 9.  4.]\n",
            " [10.  6.]\n",
            " [10.  7.]\n",
            " [10.  8.]\n",
            " [11.  5.]\n",
            " [11.  8.]\n",
            " [12.  7.]\n",
            " [13.  6.]\n",
            " [13.  7.]\n",
            " [14.  6.]\n",
            " [15.  4.]\n",
            " [15.  5.]]\n"
          ]
        }
      ],
      "source": [
        "p=np.array([2.0,4.0])\n",
        "q=np.array([3.0,4.0])\n",
        "v=np.array([3.0,3.0])\n",
        "r=np.array([5.0,4.0])\n",
        "h=np.array([5.0,6.0])\n",
        "a=np.array([5.0,8.0])\n",
        "s=np.array([6.0,4.0])\n",
        "k=np.array([6.0,5.0])\n",
        "d=np.array([6.0,7.0])\n",
        "w=np.array([7.0,3.0])\n",
        "t=np.array([7.0,4.0])\n",
        "x=np.array([8.0,2.0])\n",
        "l=np.array([9.0,4.0])\n",
        "i=np.array([10.0,6.0])\n",
        "e=np.array([10.0,7.0])\n",
        "b=np.array([10.0,8.0])\n",
        "m=np.array([11.0,5.0])\n",
        "c=np.array([11.0,8.0])\n",
        "f=np.array([12.0,7.0])\n",
        "j=np.array([13.0,6.0])\n",
        "g=np.array([13.0,7.0])\n",
        "n=np.array([14.0,6.0])\n",
        "u=np.array([15.0,4.0])\n",
        "o=np.array([15.0,5.0])\n",
        "\n",
        "data=np.array([p,q,v,r,h,a,s,k,d,w,t,x,l,i,e,b,m,c,f,j,g,n,u,o])\n",
        "print(data)"
      ]
    },
    {
      "cell_type": "code",
      "source": [
        "def compute_euclidean_distance(point, centroid):\n",
        "    return np.sqrt(np.sum((point - centroid)**2))"
      ],
      "metadata": {
        "id": "wnDW4bGA4mbG"
      },
      "execution_count": 46,
      "outputs": []
    },
    {
      "cell_type": "code",
      "source": [
        "def assign_label_cluster(distance, data_point, centroids):\n",
        "    index_of_minimum = min(distance, key=distance.get)\n",
        "    #cluster[index_of_minimum]=data_point\n",
        "    return index_of_minimum"
      ],
      "metadata": {
        "id": "RLG-4vQC6gtD"
      },
      "execution_count": 47,
      "outputs": []
    },
    {
      "cell_type": "code",
      "source": [
        "def compute_new_centroids(cluster):\n",
        "  cluster=np.array(cluster)\n",
        "  #print(np.transpose(cluster).mean(axis=1))\n",
        "  return np.transpose(cluster).mean(axis=1)"
      ],
      "metadata": {
        "id": "lLPFGEmt6wg9"
      },
      "execution_count": 48,
      "outputs": []
    },
    {
      "cell_type": "code",
      "source": [
        "def create_centroids_2():\n",
        "    centroids=[]\n",
        "    #centroids = np.array([6, 4],[13, 6])\n",
        "    centroids.append([6.0, 4.0])\n",
        "    centroids.append([13.0, 6.0])\n",
        "    \n",
        "    return np.array(centroids)"
      ],
      "metadata": {
        "id": "US9WtP8E8ZVR"
      },
      "execution_count": 49,
      "outputs": []
    },
    {
      "cell_type": "code",
      "source": [
        "def create_centroids_3():\n",
        "    centroids=[]\n",
        "    #centroids = np.array([6, 4],[13, 6])\n",
        "    centroids.append([5.0, 4.0])\n",
        "    centroids.append([9.0, 5.0])\n",
        "    centroids.append([12.0,6.0])\n",
        "    return np.array(centroids)"
      ],
      "metadata": {
        "id": "21KjzMe1RDva"
      },
      "execution_count": 50,
      "outputs": []
    },
    {
      "cell_type": "code",
      "source": [
        "def create_centroids_4():\n",
        "    centroids=[]\n",
        "    #centroids = np.array([6, 4],[13, 6])\n",
        "    centroids.append([3.0, 4.0])\n",
        "    centroids.append([6.0, 5.0])\n",
        "    centroids.append([11.0,7.0])\n",
        "    centroids.append([14.0,5.0])\n",
        "    return np.array(centroids)"
      ],
      "metadata": {
        "id": "VKqs6IGtRWjT"
      },
      "execution_count": 51,
      "outputs": []
    },
    {
      "cell_type": "code",
      "source": [
        "total_points = len(data)\n",
        "\n",
        "for k in range(2,5):\n",
        "  iteration=0\n",
        "  if(k==2):\n",
        "    old_centroid = create_centroids_2()\n",
        "  elif(k==3):\n",
        "    old_centroid = create_centroids_3()\n",
        "  elif(k==4):\n",
        "    old_centroid = create_centroids_4()\n",
        "\n",
        "  sum_of_difference_of_centroids= 10\n",
        "  while(sum_of_difference_of_centroids>0):\n",
        "    if(k==2):\n",
        "      new_centroid = create_centroids_2()\n",
        "      cluster = [[],[]]\n",
        "    elif(k==3):\n",
        "      new_centroid = create_centroids_3()\n",
        "      cluster = [[],[],[]]\n",
        "    elif(k==4):\n",
        "      new_centroid = create_centroids_4()\n",
        "      cluster = [[],[],[],[]]\n",
        "\n",
        "    for index_point in range(0, total_points):\n",
        "         distance = {}\n",
        "         for index_centroid in range(0, k):\n",
        "            distance[index_centroid] = compute_euclidean_distance(data[index_point], old_centroid[index_centroid])\n",
        "            \n",
        "         label = assign_label_cluster(distance, data[index_point], old_centroid)\n",
        "         cluster[label].append(data[index_point])\n",
        "    cluster=np.array(cluster)\n",
        "    for index_centroid in range(0, k):\n",
        "      new_centroid[index_centroid] = compute_new_centroids(cluster[index_centroid])\n",
        "    print(\"for k= \",k)\n",
        "    #print(new_centroid)\n",
        "    #print(old_centroid)\n",
        "    difference_centroid= np.subtract(new_centroid, old_centroid)\n",
        "    #print(difference_centroid)\n",
        "    print(cluster)\n",
        "\n",
        "    if(k==2):\n",
        "      sum_of_difference_of_centroids= np.sum((difference_centroid[0] + difference_centroid[1]))**2\n",
        "    elif(k==3):\n",
        "      sum_of_difference_of_centroids= np.sum((difference_centroid[0] + difference_centroid[1] + difference_centroid[2]))**2\n",
        "    elif(k==4):\n",
        "      sum_of_difference_of_centroids= np.sum((difference_centroid[0] + difference_centroid[1] + difference_centroid[2] + difference_centroid[3]))**2\n",
        "    print(\"threshold= \",sum_of_difference_of_centroids)\n",
        "    old_centroid=new_centroid\n",
        "    iteration=iteration+1\n",
        "    print(\"iteration= \",iteration)\n",
        "    print(\"--------------------------------\")"
      ],
      "metadata": {
        "colab": {
          "base_uri": "https://localhost:8080/"
        },
        "id": "-cfeKAU173OF",
        "outputId": "75fc2992-04af-4ed8-a1a7-a629f097eaa4"
      },
      "execution_count": 53,
      "outputs": [
        {
          "output_type": "stream",
          "name": "stdout",
          "text": [
            "for k=  2\n",
            "[list([array([2., 4.]), array([3., 4.]), array([3., 3.]), array([5., 4.]), array([5., 6.]), array([5., 8.]), array([6., 4.]), array([6., 5.]), array([6., 7.]), array([7., 3.]), array([7., 4.]), array([8., 2.]), array([9., 4.])])\n",
            " list([array([10.,  6.]), array([10.,  7.]), array([10.,  8.]), array([11.,  5.]), array([11.,  8.]), array([12.,  7.]), array([13.,  6.]), array([13.,  7.]), array([14.,  6.]), array([15.,  4.]), array([15.,  5.])])]\n",
            "threshold=  0.29752066115702525\n",
            "iteration=  1\n",
            "--------------------------------\n",
            "for k=  2\n",
            "[list([array([2., 4.]), array([3., 4.]), array([3., 3.]), array([5., 4.]), array([5., 6.]), array([5., 8.]), array([6., 4.]), array([6., 5.]), array([6., 7.]), array([7., 3.]), array([7., 4.]), array([8., 2.]), array([9., 4.])])\n",
            " list([array([10.,  6.]), array([10.,  7.]), array([10.,  8.]), array([11.,  5.]), array([11.,  8.]), array([12.,  7.]), array([13.,  6.]), array([13.,  7.]), array([14.,  6.]), array([15.,  4.]), array([15.,  5.])])]\n",
            "threshold=  0.0\n",
            "iteration=  2\n",
            "--------------------------------\n",
            "for k=  3\n",
            "[list([array([2., 4.]), array([3., 4.]), array([3., 3.]), array([5., 4.]), array([5., 6.]), array([5., 8.]), array([6., 4.]), array([6., 5.]), array([6., 7.]), array([7., 3.]), array([7., 4.])])\n",
            " list([array([8., 2.]), array([9., 4.]), array([10.,  6.]), array([10.,  7.])])\n",
            " list([array([10.,  8.]), array([11.,  5.]), array([11.,  8.]), array([12.,  7.]), array([13.,  6.]), array([13.,  7.]), array([14.,  6.]), array([15.,  4.]), array([15.,  5.])])]\n",
            "threshold=  2.611978369554126\n",
            "iteration=  1\n",
            "--------------------------------\n",
            "for k=  3\n",
            "[list([array([2., 4.]), array([3., 4.]), array([3., 3.]), array([5., 4.]), array([5., 6.]), array([5., 8.]), array([6., 4.]), array([6., 5.]), array([6., 7.]), array([7., 3.]), array([7., 4.])])\n",
            " list([array([8., 2.]), array([9., 4.]), array([10.,  6.]), array([10.,  7.]), array([11.,  5.])])\n",
            " list([array([10.,  8.]), array([11.,  8.]), array([12.,  7.]), array([13.,  6.]), array([13.,  7.]), array([14.,  6.]), array([15.,  4.]), array([15.,  5.])])]\n",
            "threshold=  0.5792901234567901\n",
            "iteration=  2\n",
            "--------------------------------\n",
            "for k=  3\n",
            "[list([array([2., 4.]), array([3., 4.]), array([3., 3.]), array([5., 4.]), array([5., 6.]), array([5., 8.]), array([6., 4.]), array([6., 5.]), array([6., 7.]), array([7., 3.]), array([7., 4.])])\n",
            " list([array([8., 2.]), array([9., 4.]), array([10.,  6.]), array([10.,  7.]), array([10.,  8.]), array([11.,  5.])])\n",
            " list([array([11.,  8.]), array([12.,  7.]), array([13.,  6.]), array([13.,  7.]), array([14.,  6.]), array([15.,  4.]), array([15.,  5.])])]\n",
            "threshold=  0.6061734693877563\n",
            "iteration=  3\n",
            "--------------------------------\n",
            "for k=  3\n",
            "[list([array([2., 4.]), array([3., 4.]), array([3., 3.]), array([5., 4.]), array([5., 6.]), array([5., 8.]), array([6., 4.]), array([6., 5.]), array([6., 7.]), array([7., 3.]), array([7., 4.])])\n",
            " list([array([8., 2.]), array([9., 4.]), array([10.,  6.]), array([10.,  7.]), array([10.,  8.]), array([11.,  5.])])\n",
            " list([array([11.,  8.]), array([12.,  7.]), array([13.,  6.]), array([13.,  7.]), array([14.,  6.]), array([15.,  4.]), array([15.,  5.])])]\n",
            "threshold=  0.0\n",
            "iteration=  4\n",
            "--------------------------------\n",
            "for k=  4\n",
            "[list([array([2., 4.]), array([3., 4.]), array([3., 3.])])\n",
            " list([array([5., 4.]), array([5., 6.]), array([5., 8.]), array([6., 4.]), array([6., 5.]), array([6., 7.]), array([7., 3.]), array([7., 4.]), array([8., 2.]), array([9., 4.])])\n",
            " list([array([10.,  6.]), array([10.,  7.]), array([10.,  8.]), array([11.,  5.]), array([11.,  8.]), array([12.,  7.]), array([13.,  7.])])\n",
            " list([array([13.,  6.]), array([14.,  6.]), array([15.,  4.]), array([15.,  5.])])]\n",
            "threshold=  0.043900226757369674\n",
            "iteration=  1\n",
            "--------------------------------\n",
            "for k=  4\n",
            "[list([array([2., 4.]), array([3., 4.]), array([3., 3.])])\n",
            " list([array([5., 4.]), array([5., 6.]), array([5., 8.]), array([6., 4.]), array([6., 5.]), array([6., 7.]), array([7., 3.]), array([7., 4.]), array([8., 2.]), array([9., 4.])])\n",
            " list([array([10.,  6.]), array([10.,  7.]), array([10.,  8.]), array([11.,  5.]), array([11.,  8.]), array([12.,  7.]), array([13.,  7.])])\n",
            " list([array([13.,  6.]), array([14.,  6.]), array([15.,  4.]), array([15.,  5.])])]\n",
            "threshold=  0.0\n",
            "iteration=  2\n",
            "--------------------------------\n"
          ]
        },
        {
          "output_type": "stream",
          "name": "stderr",
          "text": [
            "/usr/local/lib/python3.7/dist-packages/ipykernel_launcher.py:33: VisibleDeprecationWarning: Creating an ndarray from ragged nested sequences (which is a list-or-tuple of lists-or-tuples-or ndarrays with different lengths or shapes) is deprecated. If you meant to do this, you must specify 'dtype=object' when creating the ndarray\n"
          ]
        }
      ]
    }
  ]
}